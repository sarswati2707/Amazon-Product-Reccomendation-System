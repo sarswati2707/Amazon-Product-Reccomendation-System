{
 "cells": [
  {
   "cell_type": "code",
   "execution_count": 1,
   "metadata": {},
   "outputs": [],
   "source": [
    "#Importing libraries :-\n",
    "\n",
    "import numpy as np\n",
    "import pandas as pd\n",
    "#for visualization\n",
    "import matplotlib.pyplot as plt\n",
    "#forregular expressions\n",
    "import re\n",
    "#for handling string\n",
    "import string\n",
    "#for mathmatical operations\n",
    "import math\n",
    "import seaborn as sns\n",
    "import warnings\n",
    "warnings.filterwarnings('ignore')\n",
    "\n",
    "from sklearn.neighbors import NearestNeighbors\n",
    "from sklearn.metrics.pairwise import pairwise_distances\n",
    "import sklearn.metrics as metrics\n",
    "from surprise import SVD, accuracy\n",
    "from surprise.model_selection import train_test_split, GridSearchCV"
   ]
  },
  {
   "cell_type": "code",
   "execution_count": 2,
   "metadata": {},
   "outputs": [
    {
     "name": "stdout",
     "output_type": "stream",
     "text": [
      "shape of data (34660, 4)\n"
     ]
    }
   ],
   "source": [
    "#Loading data(Read data as dataframe) :-\n",
    "df=pd.read_csv(\"C:\\\\Users\\\\AcerPC\\\\Desktop\\\\project\\\\datasets\\\\DATASETS\\\\electronics_prod.csv\")\n",
    "\n",
    "#Extracting important columns from dataset :-\n",
    "df=df[['userId','productId','reviews_rating','name',]]\n",
    "print(\"shape of data\",df.shape)\n",
    "\n",
    "#for checking rows and columns of the dataset\n",
    "#print(\"shape of data\",df.shape)\n"
   ]
  },
  {
   "cell_type": "code",
   "execution_count": 3,
   "metadata": {},
   "outputs": [
    {
     "data": {
      "text/html": [
       "<div>\n",
       "<style scoped>\n",
       "    .dataframe tbody tr th:only-of-type {\n",
       "        vertical-align: middle;\n",
       "    }\n",
       "\n",
       "    .dataframe tbody tr th {\n",
       "        vertical-align: top;\n",
       "    }\n",
       "\n",
       "    .dataframe thead th {\n",
       "        text-align: right;\n",
       "    }\n",
       "</style>\n",
       "<table border=\"1\" class=\"dataframe\">\n",
       "  <thead>\n",
       "    <tr style=\"text-align: right;\">\n",
       "      <th></th>\n",
       "      <th>userId</th>\n",
       "      <th>productId</th>\n",
       "      <th>reviews_rating</th>\n",
       "      <th>name</th>\n",
       "    </tr>\n",
       "  </thead>\n",
       "  <tbody>\n",
       "    <tr>\n",
       "      <th>0</th>\n",
       "      <td>AVqkIhwDv8e3D1O-lebb</td>\n",
       "      <td>B01AHB9CN2</td>\n",
       "      <td>5.0</td>\n",
       "      <td>All-New Fire HD 8 Tablet, 8 HD Display, Wi-Fi,...</td>\n",
       "    </tr>\n",
       "    <tr>\n",
       "      <th>1</th>\n",
       "      <td>AVqkIhwDv8e3D1O-lebb</td>\n",
       "      <td>B01AHB9CN2</td>\n",
       "      <td>5.0</td>\n",
       "      <td>All-New Fire HD 8 Tablet, 8 HD Display, Wi-Fi,...</td>\n",
       "    </tr>\n",
       "    <tr>\n",
       "      <th>2</th>\n",
       "      <td>AVqkIhwDv8e3D1O-lebb</td>\n",
       "      <td>B01AHB9CN2</td>\n",
       "      <td>5.0</td>\n",
       "      <td>All-New Fire HD 8 Tablet, 8 HD Display, Wi-Fi,...</td>\n",
       "    </tr>\n",
       "    <tr>\n",
       "      <th>3</th>\n",
       "      <td>AVqkIhwDv8e3D1O-lebb</td>\n",
       "      <td>B01AHB9CN2</td>\n",
       "      <td>4.0</td>\n",
       "      <td>All-New Fire HD 8 Tablet, 8 HD Display, Wi-Fi,...</td>\n",
       "    </tr>\n",
       "    <tr>\n",
       "      <th>4</th>\n",
       "      <td>AVqkIhwDv8e3D1O-lebb</td>\n",
       "      <td>B01AHB9CN2</td>\n",
       "      <td>5.0</td>\n",
       "      <td>All-New Fire HD 8 Tablet, 8 HD Display, Wi-Fi,...</td>\n",
       "    </tr>\n",
       "  </tbody>\n",
       "</table>\n",
       "</div>"
      ],
      "text/plain": [
       "                 userId   productId  reviews_rating  \\\n",
       "0  AVqkIhwDv8e3D1O-lebb  B01AHB9CN2             5.0   \n",
       "1  AVqkIhwDv8e3D1O-lebb  B01AHB9CN2             5.0   \n",
       "2  AVqkIhwDv8e3D1O-lebb  B01AHB9CN2             5.0   \n",
       "3  AVqkIhwDv8e3D1O-lebb  B01AHB9CN2             4.0   \n",
       "4  AVqkIhwDv8e3D1O-lebb  B01AHB9CN2             5.0   \n",
       "\n",
       "                                                name  \n",
       "0  All-New Fire HD 8 Tablet, 8 HD Display, Wi-Fi,...  \n",
       "1  All-New Fire HD 8 Tablet, 8 HD Display, Wi-Fi,...  \n",
       "2  All-New Fire HD 8 Tablet, 8 HD Display, Wi-Fi,...  \n",
       "3  All-New Fire HD 8 Tablet, 8 HD Display, Wi-Fi,...  \n",
       "4  All-New Fire HD 8 Tablet, 8 HD Display, Wi-Fi,...  "
      ]
     },
     "execution_count": 3,
     "metadata": {},
     "output_type": "execute_result"
    }
   ],
   "source": [
    "df.head()"
   ]
  },
  {
   "cell_type": "code",
   "execution_count": 4,
   "metadata": {},
   "outputs": [
    {
     "data": {
      "text/plain": [
       "userId             object\n",
       "productId          object\n",
       "reviews_rating    float64\n",
       "name               object\n",
       "dtype: object"
      ]
     },
     "execution_count": 4,
     "metadata": {},
     "output_type": "execute_result"
    }
   ],
   "source": [
    "#To check datatype of each attributes :-\n",
    "df.dtypes"
   ]
  },
  {
   "cell_type": "code",
   "execution_count": 5,
   "metadata": {},
   "outputs": [
    {
     "name": "stdout",
     "output_type": "stream",
     "text": [
      "Total number of unique Users    :  42\n",
      "Total number of unique Products :  41\n"
     ]
    }
   ],
   "source": [
    "#Unique userId and productID :-\n",
    "unique_userId = df['userId'].nunique()\n",
    "unique_productId = df['productId'].nunique()\n",
    "print('Total number of unique Users    : ', unique_userId)\n",
    "print('Total number of unique Products : ', unique_productId)"
   ]
  },
  {
   "cell_type": "code",
   "execution_count": 6,
   "metadata": {},
   "outputs": [
    {
     "data": {
      "text/plain": [
       "userId               0\n",
       "productId            2\n",
       "reviews_rating      33\n",
       "name              6760\n",
       "dtype: int64"
      ]
     },
     "execution_count": 6,
     "metadata": {},
     "output_type": "execute_result"
    }
   ],
   "source": [
    "#Checking for NA values :-\n",
    "df.isnull().sum()"
   ]
  },
  {
   "cell_type": "code",
   "execution_count": 7,
   "metadata": {},
   "outputs": [
    {
     "data": {
      "text/plain": [
       "userId            0\n",
       "productId         0\n",
       "reviews_rating    0\n",
       "name              0\n",
       "dtype: int64"
      ]
     },
     "execution_count": 7,
     "metadata": {},
     "output_type": "execute_result"
    }
   ],
   "source": [
    "#Removing NA values\n",
    "df.dropna(inplace=True)\n",
    "df.isnull().sum()\n",
    "\n",
    "#boolean check\n",
    "#df.isna().any()"
   ]
  },
  {
   "cell_type": "code",
   "execution_count": 8,
   "metadata": {},
   "outputs": [],
   "source": [
    "#Conversion of userId and productId: object to string\n",
    "df.userId = df.userId.astype('str')\n",
    "df.productId = df.productId.astype('str')\n"
   ]
  },
  {
   "cell_type": "code",
   "execution_count": 9,
   "metadata": {},
   "outputs": [
    {
     "name": "stdout",
     "output_type": "stream",
     "text": [
      "<class 'pandas.core.frame.DataFrame'>\n",
      "Int64Index: 27866 entries, 0 to 27899\n",
      "Data columns (total 4 columns):\n",
      " #   Column          Non-Null Count  Dtype  \n",
      "---  ------          --------------  -----  \n",
      " 0   userId          27866 non-null  object \n",
      " 1   productId       27866 non-null  object \n",
      " 2   reviews_rating  27866 non-null  float64\n",
      " 3   name            27866 non-null  object \n",
      "dtypes: float64(1), object(3)\n",
      "memory usage: 1.1+ MB\n"
     ]
    }
   ],
   "source": [
    "df.info()"
   ]
  },
  {
   "cell_type": "code",
   "execution_count": 10,
   "metadata": {
    "scrolled": true
   },
   "outputs": [
    {
     "data": {
      "text/plain": [
       "<matplotlib.axes._subplots.AxesSubplot at 0x1cf4eacdd88>"
      ]
     },
     "execution_count": 10,
     "metadata": {},
     "output_type": "execute_result"
    },
    {
     "data": {
      "image/png": "[encoded data removed]",
      "text/plain": [
       "<Figure size 432x288 with 1 Axes>"
      ]
     },
     "metadata": {
      "needs_background": "light"
     },
     "output_type": "display_data"
    }
   ],
   "source": [
    "sns.countplot(df.reviews_rating)"
   ]
  },
  {
   "cell_type": "raw",
   "metadata": {},
   "source": [
    "Looks like a very high proportion of ratings received is 5 or 4. \n",
    "Now, Lets compare the average rating for each product vs the number of people who rated for the product.\n",
    "This will help to identify products which have a very high or low rating because of very few ratings received. Those are like outliers."
   ]
  },
  {
   "cell_type": "code",
   "execution_count": 11,
   "metadata": {},
   "outputs": [
    {
     "data": {
      "text/html": [
       "<div>\n",
       "<style scoped>\n",
       "    .dataframe tbody tr th:only-of-type {\n",
       "        vertical-align: middle;\n",
       "    }\n",
       "\n",
       "    .dataframe tbody tr th {\n",
       "        vertical-align: top;\n",
       "    }\n",
       "\n",
       "    .dataframe thead th {\n",
       "        text-align: right;\n",
       "    }\n",
       "</style>\n",
       "<table border=\"1\" class=\"dataframe\">\n",
       "  <thead>\n",
       "    <tr style=\"text-align: right;\">\n",
       "      <th></th>\n",
       "      <th>reviews_rating</th>\n",
       "      <th>Number_Of_Ratings</th>\n",
       "    </tr>\n",
       "    <tr>\n",
       "      <th>productId</th>\n",
       "      <th></th>\n",
       "      <th></th>\n",
       "    </tr>\n",
       "  </thead>\n",
       "  <tbody>\n",
       "    <tr>\n",
       "      <th>B005PB2T0S</th>\n",
       "      <td>4.000000</td>\n",
       "      <td>5</td>\n",
       "    </tr>\n",
       "    <tr>\n",
       "      <th>B005PB2T2Q</th>\n",
       "      <td>3.666667</td>\n",
       "      <td>6</td>\n",
       "    </tr>\n",
       "    <tr>\n",
       "      <th>B00DU15MU4</th>\n",
       "      <td>5.000000</td>\n",
       "      <td>1</td>\n",
       "    </tr>\n",
       "    <tr>\n",
       "      <th>B00IOY8XWQ</th>\n",
       "      <td>4.729310</td>\n",
       "      <td>580</td>\n",
       "    </tr>\n",
       "    <tr>\n",
       "      <th>B00IOYAM4I</th>\n",
       "      <td>4.862745</td>\n",
       "      <td>51</td>\n",
       "    </tr>\n",
       "  </tbody>\n",
       "</table>\n",
       "</div>"
      ],
      "text/plain": [
       "            reviews_rating  Number_Of_Ratings\n",
       "productId                                    \n",
       "B005PB2T0S        4.000000                  5\n",
       "B005PB2T2Q        3.666667                  6\n",
       "B00DU15MU4        5.000000                  1\n",
       "B00IOY8XWQ        4.729310                580\n",
       "B00IOYAM4I        4.862745                 51"
      ]
     },
     "execution_count": 11,
     "metadata": {},
     "output_type": "execute_result"
    }
   ],
   "source": [
    "\n",
    "ratings = pd.DataFrame(df.groupby('productId')['reviews_rating'].mean())\n",
    "ratings['Number_Of_Ratings']=pd.DataFrame(df.groupby('productId')['reviews_rating'].count())\n",
    "ratings.head()\n"
   ]
  },
  {
   "cell_type": "code",
   "execution_count": 12,
   "metadata": {},
   "outputs": [
    {
     "data": {
      "text/plain": [
       "Text(0.5, 1.0, 'Distribution of Ratings')"
      ]
     },
     "execution_count": 12,
     "metadata": {},
     "output_type": "execute_result"
    },
    {
     "data": {
      "image/png": "[encoded data removed]",
      "text/plain": [
       "<Figure size 720x360 with 2 Axes>"
      ]
     },
     "metadata": {
      "needs_background": "light"
     },
     "output_type": "display_data"
    }
   ],
   "source": [
    "#Distribution of count of ratings and the mean ratings :-\n",
    "\n",
    "plt.figure(figsize=(10,5))\n",
    "plt.subplot(1,2,1)\n",
    "plt.hist(ratings.Number_Of_Ratings)\n",
    "plt.title('Distribution of count of each Rating')\n",
    "\n",
    "plt.subplot(1,2,2)\n",
    "plt.hist(ratings.reviews_rating)\n",
    "plt.title('Distribution of Ratings')"
   ]
  },
  {
   "cell_type": "code",
   "execution_count": 13,
   "metadata": {},
   "outputs": [
    {
     "data": {
      "text/html": [
       "<div>\n",
       "<style scoped>\n",
       "    .dataframe tbody tr th:only-of-type {\n",
       "        vertical-align: middle;\n",
       "    }\n",
       "\n",
       "    .dataframe tbody tr th {\n",
       "        vertical-align: top;\n",
       "    }\n",
       "\n",
       "    .dataframe thead th {\n",
       "        text-align: right;\n",
       "    }\n",
       "</style>\n",
       "<table border=\"1\" class=\"dataframe\">\n",
       "  <thead>\n",
       "    <tr style=\"text-align: right;\">\n",
       "      <th></th>\n",
       "      <th>reviews_rating</th>\n",
       "      <th>Number_Of_Ratings</th>\n",
       "    </tr>\n",
       "  </thead>\n",
       "  <tbody>\n",
       "    <tr>\n",
       "      <th>count</th>\n",
       "      <td>27.000000</td>\n",
       "      <td>27.000000</td>\n",
       "    </tr>\n",
       "    <tr>\n",
       "      <th>mean</th>\n",
       "      <td>4.537801</td>\n",
       "      <td>1032.074074</td>\n",
       "    </tr>\n",
       "    <tr>\n",
       "      <th>std</th>\n",
       "      <td>0.396857</td>\n",
       "      <td>2398.577654</td>\n",
       "    </tr>\n",
       "    <tr>\n",
       "      <th>min</th>\n",
       "      <td>3.125000</td>\n",
       "      <td>1.000000</td>\n",
       "    </tr>\n",
       "    <tr>\n",
       "      <th>25%</th>\n",
       "      <td>4.500000</td>\n",
       "      <td>7.500000</td>\n",
       "    </tr>\n",
       "    <tr>\n",
       "      <th>50%</th>\n",
       "      <td>4.588608</td>\n",
       "      <td>51.000000</td>\n",
       "    </tr>\n",
       "    <tr>\n",
       "      <th>75%</th>\n",
       "      <td>4.714655</td>\n",
       "      <td>491.000000</td>\n",
       "    </tr>\n",
       "    <tr>\n",
       "      <th>max</th>\n",
       "      <td>5.000000</td>\n",
       "      <td>10966.000000</td>\n",
       "    </tr>\n",
       "  </tbody>\n",
       "</table>\n",
       "</div>"
      ],
      "text/plain": [
       "       reviews_rating  Number_Of_Ratings\n",
       "count       27.000000          27.000000\n",
       "mean         4.537801        1032.074074\n",
       "std          0.396857        2398.577654\n",
       "min          3.125000           1.000000\n",
       "25%          4.500000           7.500000\n",
       "50%          4.588608          51.000000\n",
       "75%          4.714655         491.000000\n",
       "max          5.000000       10966.000000"
      ]
     },
     "execution_count": 13,
     "metadata": {},
     "output_type": "execute_result"
    }
   ],
   "source": [
    "ratings.describe()"
   ]
  },
  {
   "cell_type": "raw",
   "metadata": {},
   "source": [
    "There seems to be a few outliers for Number of Ratings. The highest value is insanely high"
   ]
  },
  {
   "cell_type": "code",
   "execution_count": 14,
   "metadata": {},
   "outputs": [
    {
     "data": {
      "text/plain": [
       "(5,)"
      ]
     },
     "execution_count": 14,
     "metadata": {},
     "output_type": "execute_result"
    }
   ],
   "source": [
    "\n",
    "Q1 = np.percentile(ratings['Number_Of_Ratings'],25)\n",
    "Q3 = np.percentile(ratings['Number_Of_Ratings'],75)\n",
    "IQR = Q3-Q1\n",
    "UL = Q3+1.5*IQR   #UL is used for upper whisker(highest point is less than 12)\n",
    "Outliers = ratings[ratings['Number_Of_Ratings']>UL]['Number_Of_Ratings']\n",
    "Outliers.shape\n",
    "\n"
   ]
  },
  {
   "cell_type": "code",
   "execution_count": 15,
   "metadata": {},
   "outputs": [
    {
     "data": {
      "text/plain": [
       "<seaborn.axisgrid.JointGrid at 0x1cf4ec0df48>"
      ]
     },
     "execution_count": 15,
     "metadata": {},
     "output_type": "execute_result"
    },
    {
     "data": {
      "image/png": "[encoded data removed]",
      "text/plain": [
       "<Figure size 432x432 with 3 Axes>"
      ]
     },
     "metadata": {
      "needs_background": "light"
     },
     "output_type": "display_data"
    }
   ],
   "source": [
    "sns.jointplot(ratings.reviews_rating, ratings.Number_Of_Ratings)"
   ]
  },
  {
   "cell_type": "raw",
   "metadata": {},
   "source": [
    "No great co-relation is noticed. But it is noticeable that products with lower ratings have lesser number of rating it."
   ]
  },
  {
   "cell_type": "code",
   "execution_count": 16,
   "metadata": {},
   "outputs": [
    {
     "data": {
      "text/plain": [
       "AVpff7_VilAPnD_xc1E_    1\n",
       "AVzvXXxbvKc47QAVfRhy    3\n",
       "AVpe9CMS1cnluZ0-aoC5    5\n",
       "AVqVGZN9QMlgsOJE6eUZ    6\n",
       "AVpg3q4RLJeJML43TxA_    6\n",
       "Name: userId, dtype: int64"
      ]
     },
     "execution_count": 16,
     "metadata": {},
     "output_type": "execute_result"
    }
   ],
   "source": [
    "counts = df.userId.value_counts()\n",
    "counts.sort_values(ascending=True).head()\n"
   ]
  },
  {
   "cell_type": "code",
   "execution_count": 17,
   "metadata": {},
   "outputs": [
    {
     "data": {
      "text/plain": [
       "(27769, 4)"
      ]
     },
     "execution_count": 17,
     "metadata": {},
     "output_type": "execute_result"
    }
   ],
   "source": [
    "#Drop users who have rated less than 25 times :-\n",
    "\n",
    "df = df[df['userId'].isin(counts[counts >= 25].index)]\n",
    "df.shape\n"
   ]
  },
  {
   "cell_type": "code",
   "execution_count": 18,
   "metadata": {},
   "outputs": [
    {
     "data": {
      "text/html": [
       "<div>\n",
       "<style scoped>\n",
       "    .dataframe tbody tr th:only-of-type {\n",
       "        vertical-align: middle;\n",
       "    }\n",
       "\n",
       "    .dataframe tbody tr th {\n",
       "        vertical-align: top;\n",
       "    }\n",
       "\n",
       "    .dataframe thead th {\n",
       "        text-align: right;\n",
       "    }\n",
       "</style>\n",
       "<table border=\"1\" class=\"dataframe\">\n",
       "  <thead>\n",
       "    <tr style=\"text-align: right;\">\n",
       "      <th></th>\n",
       "      <th>userId</th>\n",
       "      <th>productId</th>\n",
       "      <th>reviews_rating</th>\n",
       "      <th>name</th>\n",
       "    </tr>\n",
       "  </thead>\n",
       "  <tbody>\n",
       "    <tr>\n",
       "      <th>27895</th>\n",
       "      <td>AVpfl8cLLJeJML43AE3S</td>\n",
       "      <td>B00L9EPT8O,B01E6AO69U</td>\n",
       "      <td>5.0</td>\n",
       "      <td>New Amazon Kindle Fire Hd 9w Powerfast Adapter...</td>\n",
       "    </tr>\n",
       "    <tr>\n",
       "      <th>27896</th>\n",
       "      <td>AVpfl8cLLJeJML43AE3S</td>\n",
       "      <td>B00L9EPT8O,B01E6AO69U</td>\n",
       "      <td>5.0</td>\n",
       "      <td>New Amazon Kindle Fire Hd 9w Powerfast Adapter...</td>\n",
       "    </tr>\n",
       "    <tr>\n",
       "      <th>27897</th>\n",
       "      <td>AVpfl8cLLJeJML43AE3S</td>\n",
       "      <td>B00L9EPT8O,B01E6AO69U</td>\n",
       "      <td>4.0</td>\n",
       "      <td>New Amazon Kindle Fire Hd 9w Powerfast Adapter...</td>\n",
       "    </tr>\n",
       "    <tr>\n",
       "      <th>27898</th>\n",
       "      <td>AVpfl8cLLJeJML43AE3S</td>\n",
       "      <td>B00L9EPT8O,B01E6AO69U</td>\n",
       "      <td>3.0</td>\n",
       "      <td>New Amazon Kindle Fire Hd 9w Powerfast Adapter...</td>\n",
       "    </tr>\n",
       "    <tr>\n",
       "      <th>27899</th>\n",
       "      <td>AVpfl8cLLJeJML43AE3S</td>\n",
       "      <td>B00L9EPT8O,B01E6AO69U</td>\n",
       "      <td>5.0</td>\n",
       "      <td>New Amazon Kindle Fire Hd 9w Powerfast Adapter...</td>\n",
       "    </tr>\n",
       "  </tbody>\n",
       "</table>\n",
       "</div>"
      ],
      "text/plain": [
       "                     userId              productId  reviews_rating  \\\n",
       "27895  AVpfl8cLLJeJML43AE3S  B00L9EPT8O,B01E6AO69U             5.0   \n",
       "27896  AVpfl8cLLJeJML43AE3S  B00L9EPT8O,B01E6AO69U             5.0   \n",
       "27897  AVpfl8cLLJeJML43AE3S  B00L9EPT8O,B01E6AO69U             4.0   \n",
       "27898  AVpfl8cLLJeJML43AE3S  B00L9EPT8O,B01E6AO69U             3.0   \n",
       "27899  AVpfl8cLLJeJML43AE3S  B00L9EPT8O,B01E6AO69U             5.0   \n",
       "\n",
       "                                                    name  \n",
       "27895  New Amazon Kindle Fire Hd 9w Powerfast Adapter...  \n",
       "27896  New Amazon Kindle Fire Hd 9w Powerfast Adapter...  \n",
       "27897  New Amazon Kindle Fire Hd 9w Powerfast Adapter...  \n",
       "27898  New Amazon Kindle Fire Hd 9w Powerfast Adapter...  \n",
       "27899  New Amazon Kindle Fire Hd 9w Powerfast Adapter...  "
      ]
     },
     "execution_count": 18,
     "metadata": {},
     "output_type": "execute_result"
    }
   ],
   "source": [
    "df.tail()\n"
   ]
  },
  {
   "cell_type": "code",
   "execution_count": 19,
   "metadata": {},
   "outputs": [
    {
     "data": {
      "text/plain": [
       "Text(0.5, 1.0, 'Distribution of Ratings')"
      ]
     },
     "execution_count": 19,
     "metadata": {},
     "output_type": "execute_result"
    },
    {
     "data": {
      "image/png": "[encoded data removed]",
      "text/plain": [
       "<Figure size 720x360 with 2 Axes>"
      ]
     },
     "metadata": {
      "needs_background": "light"
     },
     "output_type": "display_data"
    }
   ],
   "source": [
    "ratings = pd.DataFrame(df.groupby('productId')['reviews_rating'].mean())\n",
    "ratings['Number_Of_Ratings'] = pd.DataFrame(df.groupby('productId')['reviews_rating'].count())\n",
    "\n",
    "plt.figure(figsize=(10,5))\n",
    "plt.subplot(1,2,1)\n",
    "plt.hist(ratings.Number_Of_Ratings)\n",
    "plt.title('Distribution of count of each Rating')\n",
    "\n",
    "plt.subplot(1,2,2)\n",
    "plt.hist(ratings.reviews_rating)\n",
    "plt.title('Distribution of Ratings')"
   ]
  },
  {
   "cell_type": "code",
   "execution_count": 20,
   "metadata": {},
   "outputs": [
    {
     "data": {
      "text/plain": [
       "270      0.066667\n",
       "2814     0.066667\n",
       "5948     0.066667\n",
       "10966    0.066667\n",
       "1685     0.066667\n",
       "372      0.066667\n",
       "51       0.066667\n",
       "402      0.066667\n",
       "30       0.066667\n",
       "212      0.066667\n",
       "1038     0.066667\n",
       "3176     0.066667\n",
       "580      0.066667\n",
       "67       0.066667\n",
       "158      0.066667\n",
       "Name: Number_Of_Ratings, dtype: float64"
      ]
     },
     "execution_count": 20,
     "metadata": {},
     "output_type": "execute_result"
    }
   ],
   "source": [
    "ratings.Number_Of_Ratings.value_counts(normalize=True)"
   ]
  },
  {
   "cell_type": "code",
   "execution_count": 21,
   "metadata": {},
   "outputs": [
    {
     "data": {
      "text/plain": [
       "AVqkIdntQMlgsOJE6fuB     30\n",
       "AVpftoij1cnluZ0-p5n2     51\n",
       "AVqVGZO3nnc1JgDc3jGK     67\n",
       "AVqkIiKWnnc1JgDc3khH    158\n",
       "AVqVGZNvQMlgsOJE6eUY    212\n",
       "Name: userId, dtype: int64"
      ]
     },
     "execution_count": 21,
     "metadata": {},
     "output_type": "execute_result"
    }
   ],
   "source": [
    "counts = df.userId.value_counts()\n",
    "counts.sort_values(ascending=True).head()\n"
   ]
  },
  {
   "cell_type": "code",
   "execution_count": 22,
   "metadata": {},
   "outputs": [],
   "source": [
    "#Converting the dataframe to format supported by surprise package\n",
    "\n",
    "from surprise import Reader, Dataset\n",
    "reader = Reader()\n",
    "data = Dataset.load_from_df(df[['userId','productId','reviews_rating']], reader)\n"
   ]
  },
  {
   "cell_type": "code",
   "execution_count": 23,
   "metadata": {},
   "outputs": [],
   "source": [
    "trainset, testset = train_test_split(data, test_size=0.25)\n"
   ]
  },
  {
   "cell_type": "code",
   "execution_count": 24,
   "metadata": {},
   "outputs": [],
   "source": [
    "from surprise import SVD, accuracy\n",
    "algo = SVD()\n",
    "algo.fit(trainset)\n",
    "\n",
    "predictions = algo.test(testset)\n"
   ]
  },
  {
   "cell_type": "code",
   "execution_count": 25,
   "metadata": {},
   "outputs": [
    {
     "name": "stdout",
     "output_type": "stream",
     "text": [
      "RMSE: 0.7484\n"
     ]
    },
    {
     "data": {
      "text/plain": [
       "0.748365722617529"
      ]
     },
     "execution_count": 25,
     "metadata": {},
     "output_type": "execute_result"
    }
   ],
   "source": [
    "from surprise import accuracy\n",
    "accuracy.rmse(predictions)\n"
   ]
  },
  {
   "cell_type": "code",
   "execution_count": 26,
   "metadata": {},
   "outputs": [
    {
     "data": {
      "text/html": [
       "<div>\n",
       "<style scoped>\n",
       "    .dataframe tbody tr th:only-of-type {\n",
       "        vertical-align: middle;\n",
       "    }\n",
       "\n",
       "    .dataframe tbody tr th {\n",
       "        vertical-align: top;\n",
       "    }\n",
       "\n",
       "    .dataframe thead th {\n",
       "        text-align: right;\n",
       "    }\n",
       "</style>\n",
       "<table border=\"1\" class=\"dataframe\">\n",
       "  <thead>\n",
       "    <tr style=\"text-align: right;\">\n",
       "      <th></th>\n",
       "      <th>SVD</th>\n",
       "    </tr>\n",
       "  </thead>\n",
       "  <tbody>\n",
       "    <tr>\n",
       "      <th>RMSE</th>\n",
       "      <td>0.7287</td>\n",
       "    </tr>\n",
       "  </tbody>\n",
       "</table>\n",
       "</div>"
      ],
      "text/plain": [
       "         SVD\n",
       "RMSE  0.7287"
      ]
     },
     "execution_count": 26,
     "metadata": {},
     "output_type": "execute_result"
    }
   ],
   "source": [
    "#Reading result of SVD in pandas :-\n",
    "results = pd.DataFrame({'SVD':[0.7287]},index=['RMSE'])\n",
    "results\n"
   ]
  },
  {
   "cell_type": "code",
   "execution_count": 27,
   "metadata": {},
   "outputs": [],
   "source": [
    "\n",
    "from collections import defaultdict\n",
    "def get_top_n(predictions, n=5):\n",
    "    # Map predictions to each other.\n",
    "    top_n = defaultdict(list)\n",
    "    for uid, iid, true_r, est, _ in predictions:\n",
    "        top_n[uid].append((iid,est))\n",
    "        \n",
    "    # sort predictiond for each other and retrieve the k highest one\n",
    "    for uid, user_ratings in top_n.items():\n",
    "        user_ratings.sort(key=lambda x: x[1], reverse=True)\n",
    "        top_n[uid] = user_ratings[:n]\n",
    "        \n",
    "    return top_n\n",
    "\n",
    "    "
   ]
  },
  {
   "cell_type": "raw",
   "metadata": {},
   "source": [
    "#Top 5 recommendations per user is below (alongwith the ratings of those products)"
   ]
  },
  {
   "cell_type": "code",
   "execution_count": 28,
   "metadata": {
    "scrolled": true
   },
   "outputs": [
    {
     "data": {
      "text/plain": [
       "defaultdict(list,\n",
       "            {'AVphgVaX1cnluZ0-DR74': [('B018Y229OU', 4.489797455599623),\n",
       "              ('B018Y229OU', 4.489797455599623),\n",
       "              ('B018Y229OU', 4.489797455599623),\n",
       "              ('B018Y229OU', 4.489797455599623),\n",
       "              ('B018Y229OU', 4.489797455599623)],\n",
       "             'AVpfl8cLLJeJML43AE3S': [('B00L9EPT8O,B01E6AO69U',\n",
       "               4.678942298608066),\n",
       "              ('B00L9EPT8O,B01E6AO69U', 4.678942298608066),\n",
       "              ('B00L9EPT8O,B01E6AO69U', 4.678942298608066),\n",
       "              ('B00L9EPT8O,B01E6AO69U', 4.678942298608066),\n",
       "              ('B00L9EPT8O,B01E6AO69U', 4.678942298608066)],\n",
       "             'AVpjEN4jLJeJML43rpUe': [('B018Y225IA', 4.523388396787929),\n",
       "              ('B018Y225IA', 4.523388396787929),\n",
       "              ('B018Y225IA', 4.523388396787929),\n",
       "              ('B018Y225IA', 4.523388396787929),\n",
       "              ('B018Y225IA', 4.523388396787929)],\n",
       "             'AVsRjfwAU2_QcyX9PHqe': [('B01J2G4VBG', 4.410924468406143),\n",
       "              ('B01J2G4VBG', 4.410924468406143),\n",
       "              ('B01J2G4VBG', 4.410924468406143),\n",
       "              ('B01J2G4VBG', 4.410924468406143),\n",
       "              ('B01J2G4VBG', 4.410924468406143)],\n",
       "             'AV1YnRtnglJLPUi8IJmV': [('B00OQVZDJM', 4.725731052683538),\n",
       "              ('B00OQVZDJM', 4.725731052683538),\n",
       "              ('B00OQVZDJM', 4.725731052683538),\n",
       "              ('B00OQVZDJM', 4.725731052683538),\n",
       "              ('B00OQVZDJM', 4.725731052683538)],\n",
       "             'AVqkIhwDv8e3D1O-lebb': [('B01AHB9CN2', 4.610583852696019),\n",
       "              ('B01AHB9CN2', 4.610583852696019),\n",
       "              ('B01AHB9CN2', 4.610583852696019),\n",
       "              ('B01AHB9CN2', 4.610583852696019),\n",
       "              ('B01AHB9CN2', 4.610583852696019)],\n",
       "             'AVqVGWQDv8e3D1O-ldFr': [('B018SZT3BK', 4.484460418240336),\n",
       "              ('B018SZT3BK', 4.484460418240336),\n",
       "              ('B018SZT3BK', 4.484460418240336),\n",
       "              ('B018SZT3BK', 4.484460418240336),\n",
       "              ('B018SZT3BK', 4.484460418240336)],\n",
       "             'AVqVGZO3nnc1JgDc3jGK': [('B00VINDBJK', 4.5221063706749085),\n",
       "              ('B00VINDBJK', 4.5221063706749085),\n",
       "              ('B00VINDBJK', 4.5221063706749085),\n",
       "              ('B00VINDBJK', 4.5221063706749085),\n",
       "              ('B00VINDBJK', 4.5221063706749085)],\n",
       "             'AVqkIiKWnnc1JgDc3khH': [('B01AHB9CYG', 4.620266861892483),\n",
       "              ('B01AHB9CYG', 4.620266861892483),\n",
       "              ('B01AHB9CYG', 4.620266861892483),\n",
       "              ('B01AHB9CYG', 4.620266861892483),\n",
       "              ('B01AHB9CYG', 4.620266861892483)],\n",
       "             'AVqVGWLKnnc1JgDc3jF1': [('B018Y23MNM', 4.559501520428202),\n",
       "              ('B018Y23MNM', 4.559501520428202),\n",
       "              ('B018Y23MNM', 4.559501520428202),\n",
       "              ('B018Y23MNM', 4.559501520428202),\n",
       "              ('B018Y23MNM', 4.559501520428202)],\n",
       "             'AVphPmHuilAPnD_x3E5h': [('B00IOY8XWQ', 4.6682503282732),\n",
       "              ('B00IOY8XWQ', 4.6682503282732),\n",
       "              ('B00IOY8XWQ', 4.6682503282732),\n",
       "              ('B00IOY8XWQ', 4.6682503282732),\n",
       "              ('B00IOY8XWQ', 4.6682503282732)],\n",
       "             'AVqVGZNvQMlgsOJE6eUY': [('B00ZV9PXP2', 4.520031312244813),\n",
       "              ('B00ZV9PXP2', 4.520031312244813),\n",
       "              ('B00ZV9PXP2', 4.520031312244813),\n",
       "              ('B00ZV9PXP2', 4.520031312244813),\n",
       "              ('B00ZV9PXP2', 4.520031312244813)],\n",
       "             'AV1YnR7wglJLPUi8IJmi': [('B00TSUGXKE', 4.447259755428603),\n",
       "              ('B00TSUGXKE', 4.447259755428603),\n",
       "              ('B00TSUGXKE', 4.447259755428603),\n",
       "              ('B00TSUGXKE', 4.447259755428603),\n",
       "              ('B00TSUGXKE', 4.447259755428603)],\n",
       "             'AVpftoij1cnluZ0-p5n2': [('B00IOYAM4I', 4.8735711335702065),\n",
       "              ('B00IOYAM4I', 4.8735711335702065),\n",
       "              ('B00IOYAM4I', 4.8735711335702065),\n",
       "              ('B00IOYAM4I', 4.8735711335702065),\n",
       "              ('B00IOYAM4I', 4.8735711335702065)],\n",
       "             'AVqkIdntQMlgsOJE6fuB': [('B01BFIBRIE', 4.530060324628903),\n",
       "              ('B01BFIBRIE', 4.530060324628903),\n",
       "              ('B01BFIBRIE', 4.530060324628903),\n",
       "              ('B01BFIBRIE', 4.530060324628903),\n",
       "              ('B01BFIBRIE', 4.530060324628903)]})"
      ]
     },
     "execution_count": 28,
     "metadata": {},
     "output_type": "execute_result"
    }
   ],
   "source": [
    "top_n = get_top_n(predictions, n=5)\n",
    "top_n\n"
   ]
  },
  {
   "cell_type": "code",
   "execution_count": 29,
   "metadata": {},
   "outputs": [
    {
     "name": "stdout",
     "output_type": "stream",
     "text": [
      "AVphgVaX1cnluZ0-DR74 ['B018Y229OU', 'B018Y229OU', 'B018Y229OU', 'B018Y229OU', 'B018Y229OU']\n",
      "AVpfl8cLLJeJML43AE3S ['B00L9EPT8O,B01E6AO69U', 'B00L9EPT8O,B01E6AO69U', 'B00L9EPT8O,B01E6AO69U', 'B00L9EPT8O,B01E6AO69U', 'B00L9EPT8O,B01E6AO69U']\n",
      "AVpjEN4jLJeJML43rpUe ['B018Y225IA', 'B018Y225IA', 'B018Y225IA', 'B018Y225IA', 'B018Y225IA']\n",
      "AVsRjfwAU2_QcyX9PHqe ['B01J2G4VBG', 'B01J2G4VBG', 'B01J2G4VBG', 'B01J2G4VBG', 'B01J2G4VBG']\n",
      "AV1YnRtnglJLPUi8IJmV ['B00OQVZDJM', 'B00OQVZDJM', 'B00OQVZDJM', 'B00OQVZDJM', 'B00OQVZDJM']\n",
      "AVqkIhwDv8e3D1O-lebb ['B01AHB9CN2', 'B01AHB9CN2', 'B01AHB9CN2', 'B01AHB9CN2', 'B01AHB9CN2']\n",
      "AVqVGWQDv8e3D1O-ldFr ['B018SZT3BK', 'B018SZT3BK', 'B018SZT3BK', 'B018SZT3BK', 'B018SZT3BK']\n",
      "AVqVGZO3nnc1JgDc3jGK ['B00VINDBJK', 'B00VINDBJK', 'B00VINDBJK', 'B00VINDBJK', 'B00VINDBJK']\n",
      "AVqkIiKWnnc1JgDc3khH ['B01AHB9CYG', 'B01AHB9CYG', 'B01AHB9CYG', 'B01AHB9CYG', 'B01AHB9CYG']\n",
      "AVqVGWLKnnc1JgDc3jF1 ['B018Y23MNM', 'B018Y23MNM', 'B018Y23MNM', 'B018Y23MNM', 'B018Y23MNM']\n",
      "AVphPmHuilAPnD_x3E5h ['B00IOY8XWQ', 'B00IOY8XWQ', 'B00IOY8XWQ', 'B00IOY8XWQ', 'B00IOY8XWQ']\n",
      "AVqVGZNvQMlgsOJE6eUY ['B00ZV9PXP2', 'B00ZV9PXP2', 'B00ZV9PXP2', 'B00ZV9PXP2', 'B00ZV9PXP2']\n",
      "AV1YnR7wglJLPUi8IJmi ['B00TSUGXKE', 'B00TSUGXKE', 'B00TSUGXKE', 'B00TSUGXKE', 'B00TSUGXKE']\n",
      "AVpftoij1cnluZ0-p5n2 ['B00IOYAM4I', 'B00IOYAM4I', 'B00IOYAM4I', 'B00IOYAM4I', 'B00IOYAM4I']\n",
      "AVqkIdntQMlgsOJE6fuB ['B01BFIBRIE', 'B01BFIBRIE', 'B01BFIBRIE', 'B01BFIBRIE', 'B01BFIBRIE']\n"
     ]
    }
   ],
   "source": [
    "#Getting the recommended items for each user\n",
    "\n",
    "for uid, user_ratings in top_n.items():\n",
    "    print(uid, [iid for (iid, _) in user_ratings])\n",
    "    "
   ]
  },
  {
   "cell_type": "raw",
   "metadata": {},
   "source": [
    "#GridSearch for finding best parameters :-"
   ]
  },
  {
   "cell_type": "code",
   "execution_count": 30,
   "metadata": {},
   "outputs": [
    {
     "name": "stdout",
     "output_type": "stream",
     "text": [
      "0.7489137008584162\n",
      "{'n_epochs': 10, 'lr_all': 0.03, 'reg_all': 0.6}\n"
     ]
    }
   ],
   "source": [
    "# GridSearch :-\n",
    "\n",
    "param_grid = {\n",
    "    \"n_epochs\":[10,15,20],\n",
    "    \"lr_all\":[0.03,0.04,0.05],\n",
    "    \"reg_all\":[0.04,0.05,0.6]\n",
    "}\n",
    "gs = GridSearchCV(SVD, param_grid, measures=['rmse','mae'], cv=3)\n",
    "\n",
    "gs.fit(data)\n",
    "\n",
    "print(gs.best_score[\"rmse\"])\n",
    "print(gs.best_params[\"rmse\"])\n"
   ]
  },
  {
   "cell_type": "code",
   "execution_count": 31,
   "metadata": {},
   "outputs": [
    {
     "name": "stdout",
     "output_type": "stream",
     "text": [
      "RMSE: 0.7494\n"
     ]
    },
    {
     "data": {
      "text/plain": [
       "0.7493520575880246"
      ]
     },
     "execution_count": 31,
     "metadata": {},
     "output_type": "execute_result"
    }
   ],
   "source": [
    "algo = SVD(n_epochs= 10, lr_all=0.03, reg_all=0.6)\n",
    "algo.fit(trainset)\n",
    "\n",
    "predictions = algo.test(testset)\n",
    "accuracy.rmse(predictions)\n"
   ]
  },
  {
   "cell_type": "code",
   "execution_count": 32,
   "metadata": {},
   "outputs": [
    {
     "data": {
      "text/html": [
       "<div>\n",
       "<style scoped>\n",
       "    .dataframe tbody tr th:only-of-type {\n",
       "        vertical-align: middle;\n",
       "    }\n",
       "\n",
       "    .dataframe tbody tr th {\n",
       "        vertical-align: top;\n",
       "    }\n",
       "\n",
       "    .dataframe thead th {\n",
       "        text-align: right;\n",
       "    }\n",
       "</style>\n",
       "<table border=\"1\" class=\"dataframe\">\n",
       "  <thead>\n",
       "    <tr style=\"text-align: right;\">\n",
       "      <th></th>\n",
       "      <th>SVD</th>\n",
       "      <th>SVD_tuned</th>\n",
       "    </tr>\n",
       "  </thead>\n",
       "  <tbody>\n",
       "    <tr>\n",
       "      <th>RMSE</th>\n",
       "      <td>0.7287</td>\n",
       "      <td>0.7391</td>\n",
       "    </tr>\n",
       "  </tbody>\n",
       "</table>\n",
       "</div>"
      ],
      "text/plain": [
       "         SVD  SVD_tuned\n",
       "RMSE  0.7287     0.7391"
      ]
     },
     "execution_count": 32,
     "metadata": {},
     "output_type": "execute_result"
    }
   ],
   "source": [
    "results['SVD_tuned']=[0.7391]\n",
    "results"
   ]
  },
  {
   "cell_type": "code",
   "execution_count": 33,
   "metadata": {},
   "outputs": [
    {
     "name": "stdout",
     "output_type": "stream",
     "text": [
      "AVphgVaX1cnluZ0-DR74 ['B018Y229OU', 'B018Y229OU', 'B018Y229OU', 'B018Y229OU', 'B018Y229OU']\n",
      "AVpfl8cLLJeJML43AE3S ['B00L9EPT8O,B01E6AO69U', 'B00L9EPT8O,B01E6AO69U', 'B00L9EPT8O,B01E6AO69U', 'B00L9EPT8O,B01E6AO69U', 'B00L9EPT8O,B01E6AO69U']\n",
      "AVpjEN4jLJeJML43rpUe ['B018Y225IA', 'B018Y225IA', 'B018Y225IA', 'B018Y225IA', 'B018Y225IA']\n",
      "AVsRjfwAU2_QcyX9PHqe ['B01J2G4VBG', 'B01J2G4VBG', 'B01J2G4VBG', 'B01J2G4VBG', 'B01J2G4VBG']\n",
      "AV1YnRtnglJLPUi8IJmV ['B00OQVZDJM', 'B00OQVZDJM', 'B00OQVZDJM', 'B00OQVZDJM', 'B00OQVZDJM']\n",
      "AVqkIhwDv8e3D1O-lebb ['B01AHB9CN2', 'B01AHB9CN2', 'B01AHB9CN2', 'B01AHB9CN2', 'B01AHB9CN2']\n",
      "AVqVGWQDv8e3D1O-ldFr ['B018SZT3BK', 'B018SZT3BK', 'B018SZT3BK', 'B018SZT3BK', 'B018SZT3BK']\n",
      "AVqVGZO3nnc1JgDc3jGK ['B00VINDBJK', 'B00VINDBJK', 'B00VINDBJK', 'B00VINDBJK', 'B00VINDBJK']\n",
      "AVqkIiKWnnc1JgDc3khH ['B01AHB9CYG', 'B01AHB9CYG', 'B01AHB9CYG', 'B01AHB9CYG', 'B01AHB9CYG']\n",
      "AVqVGWLKnnc1JgDc3jF1 ['B018Y23MNM', 'B018Y23MNM', 'B018Y23MNM', 'B018Y23MNM', 'B018Y23MNM']\n",
      "AVphPmHuilAPnD_x3E5h ['B00IOY8XWQ', 'B00IOY8XWQ', 'B00IOY8XWQ', 'B00IOY8XWQ', 'B00IOY8XWQ']\n",
      "AVqVGZNvQMlgsOJE6eUY ['B00ZV9PXP2', 'B00ZV9PXP2', 'B00ZV9PXP2', 'B00ZV9PXP2', 'B00ZV9PXP2']\n",
      "AV1YnR7wglJLPUi8IJmi ['B00TSUGXKE', 'B00TSUGXKE', 'B00TSUGXKE', 'B00TSUGXKE', 'B00TSUGXKE']\n",
      "AVpftoij1cnluZ0-p5n2 ['B00IOYAM4I', 'B00IOYAM4I', 'B00IOYAM4I', 'B00IOYAM4I', 'B00IOYAM4I']\n",
      "AVqkIdntQMlgsOJE6fuB ['B01BFIBRIE', 'B01BFIBRIE', 'B01BFIBRIE', 'B01BFIBRIE', 'B01BFIBRIE']\n"
     ]
    }
   ],
   "source": [
    "# Top 5 recommendations per user :-\n",
    "\n",
    "top_n = get_top_n(predictions, n=5)\n",
    "\n",
    "for uid, user_ratings in top_n.items():\n",
    "    print(uid, [iid for (iid, _)in user_ratings])\n",
    "    "
   ]
  },
  {
   "cell_type": "raw",
   "metadata": {},
   "source": [
    "# Collaborative Filtering :-"
   ]
  },
  {
   "cell_type": "code",
   "execution_count": null,
   "metadata": {},
   "outputs": [
    {
     "name": "stdout",
     "output_type": "stream",
     "text": [
      "Computing the cosine similarity matrix...\n",
      "Done computing similarity matrix.\n"
     ]
    }
   ],
   "source": [
    "from surprise import KNNWithMeans\n",
    "algo = KNNWithMeans(k=10, sim_options={'name':'cosine', 'user_based':True})   #k=25\n",
    "algo.fit(trainset)\n",
    "test_pred = algo.test(testset)\n"
   ]
  },
  {
   "cell_type": "code",
   "execution_count": null,
   "metadata": {},
   "outputs": [],
   "source": [
    "#get RMSE\n",
    "\n",
    "print(\"User-based Model:Test set\")\n",
    "accuracy.rmse(test_pred, verbose=True)\n"
   ]
  },
  {
   "cell_type": "code",
   "execution_count": null,
   "metadata": {},
   "outputs": [],
   "source": [
    "results['User-User_CF']=[0.7444]\n",
    "results"
   ]
  },
  {
   "cell_type": "code",
   "execution_count": null,
   "metadata": {},
   "outputs": [],
   "source": [
    "#Top 5 recommendation per user :-\n",
    "\n",
    "top_n = get_top_n(test_pred, n=5)\n",
    "for uid, user_ratings in top_n.items():\n",
    "    print(uid, [iid for (iid, _)in user_ratings])\n",
    "    \n"
   ]
  },
  {
   "cell_type": "code",
   "execution_count": null,
   "metadata": {},
   "outputs": [],
   "source": [
    "# Let's tune the model and see if we can get the better results :\n",
    "\n",
    "sim_options = {\n",
    "    \"name\": [\"msd\",\"cosine\",\"pearson_baseline\"],\n",
    "        \"min_support\": [25,50,75],\n",
    "    \"user_based\" :[True],\n",
    "}\n",
    "\n",
    "param_grid = {\"sim_options\": sim_options}\n",
    "\n",
    "gs = GridSearchCV(KNNWithMeans, param_grid, measures=[\"rmse\"], cv=3)\n",
    "gs.fit(data)\n",
    "\n",
    "print(gs.best_score[\"rmse\"])\n",
    "print(gs.best_params[\"rmse\"])"
   ]
  },
  {
   "cell_type": "code",
   "execution_count": null,
   "metadata": {},
   "outputs": [],
   "source": [
    "algo = KNNWithMeans(k=25, sim_options={'name':'msd','user_based':True})\n",
    "algo.fit(trainset)\n",
    "test_pred = algo.test(testset)\n",
    "\n",
    "#To get RMSE :\n",
    "print(\"User-based Model : Test Set\")\n",
    "accuracy.rmse(test_pred, verbose=True)\n"
   ]
  },
  {
   "cell_type": "code",
   "execution_count": null,
   "metadata": {},
   "outputs": [],
   "source": [
    "results['User-User_CF_Tuned']=[0.7431]\n",
    "results\n"
   ]
  },
  {
   "cell_type": "code",
   "execution_count": 57,
   "metadata": {},
   "outputs": [
    {
     "name": "stdout",
     "output_type": "stream",
     "text": [
      "AV1YnR7wglJLPUi8IJmi ['B00TSUGXKE', 'B00TSUGXKE', 'B00TSUGXKE', 'B00TSUGXKE', 'B00TSUGXKE']\n",
      "AVphgVaX1cnluZ0-DR74 ['B018Y229OU', 'B018Y229OU', 'B018Y229OU', 'B018Y229OU', 'B018Y229OU']\n",
      "AVqVGZO3nnc1JgDc3jGK ['B00VINDBJK', 'B00VINDBJK', 'B00VINDBJK', 'B00VINDBJK', 'B00VINDBJK']\n",
      "AVpfl8cLLJeJML43AE3S ['B00L9EPT8O,B01E6AO69U', 'B00L9EPT8O,B01E6AO69U', 'B00L9EPT8O,B01E6AO69U', 'B00L9EPT8O,B01E6AO69U', 'B00L9EPT8O,B01E6AO69U']\n",
      "AV1YnRtnglJLPUi8IJmV ['B00OQVZDJM', 'B00OQVZDJM', 'B00OQVZDJM', 'B00OQVZDJM', 'B00OQVZDJM']\n",
      "AVphPmHuilAPnD_x3E5h ['B00IOY8XWQ', 'B00IOY8XWQ', 'B00IOY8XWQ', 'B00IOY8XWQ', 'B00IOY8XWQ']\n",
      "AVqVGWLKnnc1JgDc3jF1 ['B018Y23MNM', 'B018Y23MNM', 'B018Y23MNM', 'B018Y23MNM', 'B018Y23MNM']\n",
      "AVqkIhwDv8e3D1O-lebb ['B01AHB9CN2', 'B01AHB9CN2', 'B01AHB9CN2', 'B01AHB9CN2', 'B01AHB9CN2']\n",
      "AVqVGZNvQMlgsOJE6eUY ['B00ZV9PXP2', 'B00ZV9PXP2', 'B00ZV9PXP2', 'B00ZV9PXP2', 'B00ZV9PXP2']\n",
      "AVqVGWQDv8e3D1O-ldFr ['B018SZT3BK', 'B018SZT3BK', 'B018SZT3BK', 'B018SZT3BK', 'B018SZT3BK']\n",
      "AVsRjfwAU2_QcyX9PHqe ['B01J2G4VBG', 'B01J2G4VBG', 'B01J2G4VBG', 'B01J2G4VBG', 'B01J2G4VBG']\n",
      "AVpjEN4jLJeJML43rpUe ['B018Y225IA', 'B018Y225IA', 'B018Y225IA', 'B018Y225IA', 'B018Y225IA']\n",
      "AVqkIiKWnnc1JgDc3khH ['B01AHB9CYG', 'B01AHB9CYG', 'B01AHB9CYG', 'B01AHB9CYG', 'B01AHB9CYG']\n",
      "AVqkIdntQMlgsOJE6fuB ['B01BFIBRIE', 'B01BFIBRIE', 'B01BFIBRIE', 'B01BFIBRIE', 'B01BFIBRIE']\n",
      "AVpftoij1cnluZ0-p5n2 ['B00IOYAM4I', 'B00IOYAM4I', 'B00IOYAM4I', 'B00IOYAM4I', 'B00IOYAM4I']\n"
     ]
    }
   ],
   "source": [
    "#Top 5 recommendation per user \n",
    "top_n = get_top_n(test_pred, n=5)\n",
    "for uid, user_ratings in top_n.items():\n",
    "    print(uid, [iid for (iid, _)in user_ratings])\n",
    "    "
   ]
  },
  {
   "cell_type": "raw",
   "metadata": {},
   "source": [
    "#Try Matrix based and svd for recorrelations based on correlation"
   ]
  },
  {
   "cell_type": "code",
   "execution_count": null,
   "metadata": {},
   "outputs": [],
   "source": [
    "#Generate matrix table\n",
    "\n",
    "ratings_matrix = df.pivot_table(index='userId', columns='productId', values='reviews_rating').fillna(0)\n",
    "userId = ratings_matrix.index\n",
    "ProductId = ratings_matrix.columns\n",
    "print(ratings_matrix.shape)\n",
    "ratings_matrix.head()"
   ]
  },
  {
   "cell_type": "code",
   "execution_count": null,
   "metadata": {},
   "outputs": [],
   "source": [
    "ratings.sort_values('Number_Of_Ratings', ascending=False).head(20)\n"
   ]
  },
  {
   "cell_type": "code",
   "execution_count": null,
   "metadata": {},
   "outputs": [],
   "source": [
    "#Lets choose product 1400532655 and store its tarings in a series\n",
    "\n",
    "ProdID_ratings=ratings_matrix['B00L9EPT8O']"
   ]
  },
  {
   "cell_type": "code",
   "execution_count": null,
   "metadata": {},
   "outputs": [],
   "source": [
    "#We can find the correlation between this and matrix with all product ratings\n",
    "\n",
    "Similar_to_prod_rating=ratings_matrix.corrwith(ProdID_ratings)"
   ]
  },
  {
   "cell_type": "raw",
   "metadata": {},
   "source": [
    "# For Product with ID=B00007E7JU, the 10 products that will be recommended are given above "
   ]
  },
  {
   "cell_type": "code",
   "execution_count": null,
   "metadata": {},
   "outputs": [],
   "source": [
    "cor_with_prod=pd.DataFrame(Similar_to_prod_rating,columns=['Corelation']).sort_values('Corelation', ascending=False)\n",
    "cor_with_prod.head(11)\n"
   ]
  },
  {
   "cell_type": "code",
   "execution_count": null,
   "metadata": {},
   "outputs": [],
   "source": [
    "df.columns\n"
   ]
  },
  {
   "cell_type": "code",
   "execution_count": null,
   "metadata": {},
   "outputs": [],
   "source": [
    "#Popalarity based recommendation :-\n",
    "df.groupby('productId')['reviews_rating'].mean().head()\n"
   ]
  },
  {
   "cell_type": "code",
   "execution_count": null,
   "metadata": {},
   "outputs": [],
   "source": [
    "df.groupby('productId')['reviews_rating'].mean().sort_values(ascending=False).head()\n"
   ]
  },
  {
   "cell_type": "code",
   "execution_count": null,
   "metadata": {},
   "outputs": [],
   "source": [
    "df.groupby('productId')['reviews_rating'].count().sort_values(ascending=False).head()  \n"
   ]
  },
  {
   "cell_type": "code",
   "execution_count": null,
   "metadata": {},
   "outputs": [],
   "source": [
    "\n",
    "ratings_mean_count = pd.DataFrame(df.groupby('productId')['reviews_rating'].mean())\n",
    "ratings_mean_count['rating_counts'] = pd.DataFrame(df.groupby('productId')['reviews_rating'].count())\n",
    "ratings_mean_count.head()"
   ]
  },
  {
   "cell_type": "code",
   "execution_count": null,
   "metadata": {},
   "outputs": [],
   "source": [
    "\n",
    "from sklearn.model_selection import train_test_split\n",
    "train_data, test_data = train_test_split(df, test_size = 0.20, random_state=0)\n",
    "train_data.head()\n"
   ]
  },
  {
   "cell_type": "code",
   "execution_count": null,
   "metadata": {},
   "outputs": [],
   "source": [
    "#Count of user_id for each unique song as recommendation score \n",
    "\n",
    "train_data_grouped = train_data.groupby('productId').agg({'userId': 'count'}).reset_index()\n",
    "train_data_grouped.rename(columns = {'userId': 'score'},inplace=True)\n",
    "train_data_grouped.head()"
   ]
  },
  {
   "cell_type": "code",
   "execution_count": null,
   "metadata": {},
   "outputs": [],
   "source": [
    "\n",
    "#Generate matrix table\n",
    "df=df.drop_duplicates(subset=None, keep='first', inplace=False)\n",
    "\n",
    "df.duplicated(subset = None, keep = 'first')\n"
   ]
  },
  {
   "cell_type": "code",
   "execution_count": null,
   "metadata": {},
   "outputs": [],
   "source": [
    "#Sort the products on recommendation score \n",
    "train_data_sort = train_data_grouped.sort_values(['score', 'productId'], ascending = [0,1]) \n",
    "      \n",
    "#Generate a recommendation rank based upon score \n",
    "train_data_sort['Rank'] = train_data_sort['score'].rank(ascending=0, method='first') \n",
    "          \n",
    "#Get the top 5 recommendations \n",
    "popularity_recommendations = train_data_sort.head(5) \n",
    "popularity_recommendations "
   ]
  },
  {
   "cell_type": "code",
   "execution_count": null,
   "metadata": {},
   "outputs": [],
   "source": [
    "# Recommendations for any random user using the model\n",
    "\n",
    "# Use popularity based recommender model to make predictions\n",
    "def recommend(user_id):     \n",
    "    user_recommendations = popularity_recommendations \n",
    "          \n",
    "    #Add user_id column for which the recommendations are being generated \n",
    "    user_recommendations['userId'] = user_id \n",
    "      \n",
    "    #Bring user_id column to the front \n",
    "    cols = user_recommendations.columns.tolist() \n",
    "    cols = cols[-1:] + cols[:-1] \n",
    "    user_recommendations = user_recommendations[cols] \n",
    "          \n",
    "    return user_recommendations"
   ]
  },
  {
   "cell_type": "code",
   "execution_count": null,
   "metadata": {},
   "outputs": [],
   "source": [
    "test_data.head()\n"
   ]
  },
  {
   "cell_type": "code",
   "execution_count": null,
   "metadata": {},
   "outputs": [],
   "source": [
    "test_data.index\n"
   ]
  },
  {
   "cell_type": "code",
   "execution_count": null,
   "metadata": {},
   "outputs": [],
   "source": [
    "find_recom = test_data.index   # This list is user choice.\n",
    "for i in find_recom:\n",
    "    \n",
    "    print(recommend(i))    \n",
    "    print(\"\\n\") "
   ]
  },
  {
   "cell_type": "code",
   "execution_count": null,
   "metadata": {},
   "outputs": [],
   "source": [
    "results\n"
   ]
  },
  {
   "cell_type": "code",
   "execution_count": null,
   "metadata": {},
   "outputs": [],
   "source": []
  },
  {
   "cell_type": "code",
   "execution_count": null,
   "metadata": {},
   "outputs": [],
   "source": []
  },
  {
   "cell_type": "code",
   "execution_count": null,
   "metadata": {},
   "outputs": [],
   "source": []
  },
  {
   "cell_type": "code",
   "execution_count": null,
   "metadata": {},
   "outputs": [],
   "source": []
  }
 ],
 "metadata": {
  "kernelspec": {
   "display_name": "Python 3",
   "language": "python",
   "name": "python3"
  },
  "language_info": {
   "codemirror_mode": {
    "name": "ipython",
    "version": 3
   },
   "file_extension": ".py",
   "mimetype": "text/x-python",
   "name": "python",
   "nbconvert_exporter": "python",
   "pygments_lexer": "ipython3",
   "version": "3.7.6"
  }
 },
 "nbformat": 4,
 "nbformat_minor": 4
}
